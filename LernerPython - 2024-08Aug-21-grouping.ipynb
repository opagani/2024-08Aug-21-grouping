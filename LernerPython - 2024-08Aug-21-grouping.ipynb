{
 "cells": [
  {
   "cell_type": "markdown",
   "metadata": {},
   "source": [
    "# Agenda: Grouping and pivot tables\n",
    "\n",
    "1. What is grouping?\n",
    "2. Simple grouping\n",
    "3. Choosing aggregate functions\n",
    "4. Group on more than one column\n",
    "5. Retrieving more than one column\n",
    "6. Multiple aggregations\n",
    "7. Grouping on dates and times\n",
    "8. Grouper\n",
    "9. Pivot tables"
   ]
  },
  {
   "cell_type": "markdown",
   "metadata": {},
   "source": [
    "# What is grouping?\n",
    "\n",
    "If we have a numeric column, we can run an aggregation (e.g., `mean` or `sum` or `count`) on it.  \n",
    "\n",
    "If we have two columns, one numeric and one categorical, then we can ask to run an aggregation function on all of the columns for a particular value of the categorical column. \n",
    "\n",
    "Pandas provides us with an easy to to perform the aggregation function for each subset of the table, once for each value of the categorical."
   ]
  },
  {
   "cell_type": "code",
   "execution_count": null,
   "metadata": {},
   "outputs": [],
   "source": []
  }
 ],
 "metadata": {
  "kernelspec": {
   "display_name": "Python 3 (ipykernel)",
   "language": "python",
   "name": "python3"
  },
  "language_info": {
   "codemirror_mode": {
    "name": "ipython",
    "version": 3
   },
   "file_extension": ".py",
   "mimetype": "text/x-python",
   "name": "python",
   "nbconvert_exporter": "python",
   "pygments_lexer": "ipython3",
   "version": "3.12.5"
  }
 },
 "nbformat": 4,
 "nbformat_minor": 4
}
