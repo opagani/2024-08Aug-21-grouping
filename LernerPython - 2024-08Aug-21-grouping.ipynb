{
 "cells": [
  {
   "cell_type": "markdown",
   "metadata": {},
   "source": [
    "# Agenda: Grouping and pivot tables\n",
    "\n",
    "1. What is grouping?\n",
    "2. Simple grouping\n",
    "3. Choosing aggregate functions\n",
    "4. Group on more than one column\n",
    "5. Retrieving more than one column\n",
    "6. Multiple aggregations\n",
    "7. Grouping on dates and times\n",
    "8. Grouper\n",
    "9. Pivot tables"
   ]
  },
  {
   "cell_type": "markdown",
   "metadata": {},
   "source": [
    "# What is grouping?\n",
    "\n",
    "If we have a numeric column, we can run an aggregation (e.g., `mean` or `sum` or `count`) on it.  \n",
    "\n",
    "If we have two columns, one numeric and one categorical, then we can ask to run an aggregation function on all of the columns for a particular value of the categorical column. \n",
    "\n",
    "Pandas provides us with an easy to to perform the aggregation function for each subset of the table, once for each value of the categorical."
   ]
  },
  {
   "cell_type": "code",
   "execution_count": 1,
   "metadata": {},
   "outputs": [],
   "source": [
    "import pandas as pd\n"
   ]
  },
  {
   "cell_type": "code",
   "execution_count": 2,
   "metadata": {},
   "outputs": [],
   "source": [
    "filename = 'taxi.csv'\n",
    "\n",
    "df = pd.read_csv(filename)"
   ]
  },
  {
   "cell_type": "code",
   "execution_count": 3,
   "metadata": {},
   "outputs": [
    {
     "data": {
      "text/html": [
       "<div>\n",
       "<style scoped>\n",
       "    .dataframe tbody tr th:only-of-type {\n",
       "        vertical-align: middle;\n",
       "    }\n",
       "\n",
       "    .dataframe tbody tr th {\n",
       "        vertical-align: top;\n",
       "    }\n",
       "\n",
       "    .dataframe thead th {\n",
       "        text-align: right;\n",
       "    }\n",
       "</style>\n",
       "<table border=\"1\" class=\"dataframe\">\n",
       "  <thead>\n",
       "    <tr style=\"text-align: right;\">\n",
       "      <th></th>\n",
       "      <th>VendorID</th>\n",
       "      <th>tpep_pickup_datetime</th>\n",
       "      <th>tpep_dropoff_datetime</th>\n",
       "      <th>passenger_count</th>\n",
       "      <th>trip_distance</th>\n",
       "      <th>pickup_longitude</th>\n",
       "      <th>pickup_latitude</th>\n",
       "      <th>RateCodeID</th>\n",
       "      <th>store_and_fwd_flag</th>\n",
       "      <th>dropoff_longitude</th>\n",
       "      <th>dropoff_latitude</th>\n",
       "      <th>payment_type</th>\n",
       "      <th>fare_amount</th>\n",
       "      <th>extra</th>\n",
       "      <th>mta_tax</th>\n",
       "      <th>tip_amount</th>\n",
       "      <th>tolls_amount</th>\n",
       "      <th>improvement_surcharge</th>\n",
       "      <th>total_amount</th>\n",
       "    </tr>\n",
       "  </thead>\n",
       "  <tbody>\n",
       "    <tr>\n",
       "      <th>0</th>\n",
       "      <td>2</td>\n",
       "      <td>2015-06-02 11:19:29</td>\n",
       "      <td>2015-06-02 11:47:52</td>\n",
       "      <td>1</td>\n",
       "      <td>1.63</td>\n",
       "      <td>-73.954430</td>\n",
       "      <td>40.764141</td>\n",
       "      <td>1</td>\n",
       "      <td>N</td>\n",
       "      <td>-73.974754</td>\n",
       "      <td>40.754093</td>\n",
       "      <td>2</td>\n",
       "      <td>17.0</td>\n",
       "      <td>0.0</td>\n",
       "      <td>0.5</td>\n",
       "      <td>0.00</td>\n",
       "      <td>0.0</td>\n",
       "      <td>0.3</td>\n",
       "      <td>17.80</td>\n",
       "    </tr>\n",
       "    <tr>\n",
       "      <th>1</th>\n",
       "      <td>2</td>\n",
       "      <td>2015-06-02 11:19:30</td>\n",
       "      <td>2015-06-02 11:27:56</td>\n",
       "      <td>1</td>\n",
       "      <td>0.46</td>\n",
       "      <td>-73.971443</td>\n",
       "      <td>40.758942</td>\n",
       "      <td>1</td>\n",
       "      <td>N</td>\n",
       "      <td>-73.978539</td>\n",
       "      <td>40.761909</td>\n",
       "      <td>1</td>\n",
       "      <td>6.5</td>\n",
       "      <td>0.0</td>\n",
       "      <td>0.5</td>\n",
       "      <td>1.00</td>\n",
       "      <td>0.0</td>\n",
       "      <td>0.3</td>\n",
       "      <td>8.30</td>\n",
       "    </tr>\n",
       "    <tr>\n",
       "      <th>2</th>\n",
       "      <td>2</td>\n",
       "      <td>2015-06-02 11:19:31</td>\n",
       "      <td>2015-06-02 11:30:30</td>\n",
       "      <td>1</td>\n",
       "      <td>0.87</td>\n",
       "      <td>-73.978111</td>\n",
       "      <td>40.738434</td>\n",
       "      <td>1</td>\n",
       "      <td>N</td>\n",
       "      <td>-73.990273</td>\n",
       "      <td>40.745438</td>\n",
       "      <td>1</td>\n",
       "      <td>8.0</td>\n",
       "      <td>0.0</td>\n",
       "      <td>0.5</td>\n",
       "      <td>2.20</td>\n",
       "      <td>0.0</td>\n",
       "      <td>0.3</td>\n",
       "      <td>11.00</td>\n",
       "    </tr>\n",
       "    <tr>\n",
       "      <th>3</th>\n",
       "      <td>2</td>\n",
       "      <td>2015-06-02 11:19:31</td>\n",
       "      <td>2015-06-02 11:39:02</td>\n",
       "      <td>1</td>\n",
       "      <td>2.13</td>\n",
       "      <td>-73.945892</td>\n",
       "      <td>40.773529</td>\n",
       "      <td>1</td>\n",
       "      <td>N</td>\n",
       "      <td>-73.971527</td>\n",
       "      <td>40.760330</td>\n",
       "      <td>1</td>\n",
       "      <td>13.5</td>\n",
       "      <td>0.0</td>\n",
       "      <td>0.5</td>\n",
       "      <td>2.86</td>\n",
       "      <td>0.0</td>\n",
       "      <td>0.3</td>\n",
       "      <td>17.16</td>\n",
       "    </tr>\n",
       "    <tr>\n",
       "      <th>4</th>\n",
       "      <td>1</td>\n",
       "      <td>2015-06-02 11:19:32</td>\n",
       "      <td>2015-06-02 11:32:49</td>\n",
       "      <td>1</td>\n",
       "      <td>1.40</td>\n",
       "      <td>-73.979088</td>\n",
       "      <td>40.776772</td>\n",
       "      <td>1</td>\n",
       "      <td>N</td>\n",
       "      <td>-73.982162</td>\n",
       "      <td>40.758999</td>\n",
       "      <td>2</td>\n",
       "      <td>9.5</td>\n",
       "      <td>0.0</td>\n",
       "      <td>0.5</td>\n",
       "      <td>0.00</td>\n",
       "      <td>0.0</td>\n",
       "      <td>0.3</td>\n",
       "      <td>10.30</td>\n",
       "    </tr>\n",
       "  </tbody>\n",
       "</table>\n",
       "</div>"
      ],
      "text/plain": [
       "   VendorID tpep_pickup_datetime tpep_dropoff_datetime  passenger_count  \\\n",
       "0         2  2015-06-02 11:19:29   2015-06-02 11:47:52                1   \n",
       "1         2  2015-06-02 11:19:30   2015-06-02 11:27:56                1   \n",
       "2         2  2015-06-02 11:19:31   2015-06-02 11:30:30                1   \n",
       "3         2  2015-06-02 11:19:31   2015-06-02 11:39:02                1   \n",
       "4         1  2015-06-02 11:19:32   2015-06-02 11:32:49                1   \n",
       "\n",
       "   trip_distance  pickup_longitude  pickup_latitude  RateCodeID  \\\n",
       "0           1.63        -73.954430        40.764141           1   \n",
       "1           0.46        -73.971443        40.758942           1   \n",
       "2           0.87        -73.978111        40.738434           1   \n",
       "3           2.13        -73.945892        40.773529           1   \n",
       "4           1.40        -73.979088        40.776772           1   \n",
       "\n",
       "  store_and_fwd_flag  dropoff_longitude  dropoff_latitude  payment_type  \\\n",
       "0                  N         -73.974754         40.754093             2   \n",
       "1                  N         -73.978539         40.761909             1   \n",
       "2                  N         -73.990273         40.745438             1   \n",
       "3                  N         -73.971527         40.760330             1   \n",
       "4                  N         -73.982162         40.758999             2   \n",
       "\n",
       "   fare_amount  extra  mta_tax  tip_amount  tolls_amount  \\\n",
       "0         17.0    0.0      0.5        0.00           0.0   \n",
       "1          6.5    0.0      0.5        1.00           0.0   \n",
       "2          8.0    0.0      0.5        2.20           0.0   \n",
       "3         13.5    0.0      0.5        2.86           0.0   \n",
       "4          9.5    0.0      0.5        0.00           0.0   \n",
       "\n",
       "   improvement_surcharge  total_amount  \n",
       "0                    0.3         17.80  \n",
       "1                    0.3          8.30  \n",
       "2                    0.3         11.00  \n",
       "3                    0.3         17.16  \n",
       "4                    0.3         10.30  "
      ]
     },
     "execution_count": 3,
     "metadata": {},
     "output_type": "execute_result"
    }
   ],
   "source": [
    "df.head()"
   ]
  },
  {
   "cell_type": "code",
   "execution_count": 6,
   "metadata": {},
   "outputs": [
    {
     "data": {
      "text/plain": [
       "np.float64(3.0923380047176354)"
      ]
     },
     "execution_count": 6,
     "metadata": {},
     "output_type": "execute_result"
    }
   ],
   "source": [
    "# what was the mean distance that taxis traveled with 1 passenger?\n",
    "\n",
    "(\n",
    "    df\n",
    "    .loc[lambda df_: df_['passenger_count'] == 1,    # row selector\n",
    "         'trip_distance']   # column selector\n",
    "    .mean()\n",
    ")"
   ]
  },
  {
   "cell_type": "code",
   "execution_count": 8,
   "metadata": {},
   "outputs": [
    {
     "data": {
      "text/plain": [
       "np.float64(3.3843869002284848)"
      ]
     },
     "execution_count": 8,
     "metadata": {},
     "output_type": "execute_result"
    }
   ],
   "source": [
    "# what was the mean distance that taxis traveled with 2 passengers?\n",
    "\n",
    "(\n",
    "    df\n",
    "    .loc[lambda df_: df_['passenger_count'] == 2,    # row selector\n",
    "         'trip_distance']   # column selector\n",
    "    .mean()\n",
    ")"
   ]
  },
  {
   "cell_type": "code",
   "execution_count": 9,
   "metadata": {},
   "outputs": [
    {
     "data": {
      "text/plain": [
       "np.float64(3.3423891625615765)"
      ]
     },
     "execution_count": 9,
     "metadata": {},
     "output_type": "execute_result"
    }
   ],
   "source": [
    "# what about 3 passengers?\n",
    "\n",
    "(\n",
    "    df\n",
    "    .loc[lambda df_: df_['passenger_count'] == 3,    # row selector\n",
    "         'trip_distance']   # column selector\n",
    "    .mean()\n",
    ")"
   ]
  },
  {
   "cell_type": "code",
   "execution_count": 11,
   "metadata": {},
   "outputs": [],
   "source": [
    "# Let's find out the mean trip_distance for every distinct value of passenger_count\n",
    "\n"
   ]
  },
  {
   "cell_type": "markdown",
   "metadata": {},
   "source": [
    "# Grouping\n",
    "\n",
    "- We use the `groupby` method\n",
    "- Inside of the parentheses, we pass the name of the categorical column we want to group on\n",
    "- After the parentheses, we have square brackets with the name of the numeric column we want to calculate on\n",
    "- After that, we invoke the aggregation method we want"
   ]
  },
  {
   "cell_type": "code",
   "execution_count": 12,
   "metadata": {},
   "outputs": [
    {
     "data": {
      "text/plain": [
       "passenger_count\n",
       "0    4.600000\n",
       "1    3.092338\n",
       "2    3.384387\n",
       "3    3.342389\n",
       "4    3.628901\n",
       "5    3.182712\n",
       "6    3.170976\n",
       "Name: trip_distance, dtype: float64"
      ]
     },
     "execution_count": 12,
     "metadata": {},
     "output_type": "execute_result"
    }
   ],
   "source": [
    "#            categorical        numeric          aggregation function\n",
    "df.groupby('passenger_count')['trip_distance'].mean()"
   ]
  },
  {
   "cell_type": "code",
   "execution_count": 15,
   "metadata": {},
   "outputs": [
    {
     "data": {
      "text/plain": [
       "total_amount\n",
       "-7.80       0.89\n",
       "-7.30       0.93\n",
       "-3.30       0.00\n",
       " 0.30       0.50\n",
       " 2.30       0.00\n",
       "           ...  \n",
       " 162.39    32.10\n",
       " 194.30    29.30\n",
       " 210.14    37.20\n",
       " 250.30     0.00\n",
       " 252.35    31.90\n",
       "Name: trip_distance, Length: 916, dtype: float64"
      ]
     },
     "execution_count": 15,
     "metadata": {},
     "output_type": "execute_result"
    }
   ],
   "source": [
    "# can I put a numeric column instead of the categorical?\n",
    "# yes, but you probably don't want to \n",
    "\n",
    "# here, we'll ask for the mean trip_distance for every \n",
    "# distinct amount that people paid for their taxi\n",
    "df.groupby('total_amount')['trip_distance'].mean()  "
   ]
  },
  {
   "cell_type": "markdown",
   "metadata": {},
   "source": [
    "# Aggregation methods\n",
    "\n",
    "- `count`  (returns an integer, the number of non-`NA`/`NaN` values \n",
    "- `sum`\n",
    "- `mean`\n",
    "- `std`\n",
    "- `min`\n",
    "- `max`\n",
    "- `median`\n",
    "- `quantile`\n",
    "- `idxmin`  (returns the index of the lowest value)\n",
    "- `idxmax`  (returns the index of the highest value)\n"
   ]
  },
  {
   "cell_type": "code",
   "execution_count": 18,
   "metadata": {},
   "outputs": [
    {
     "data": {
      "text/plain": [
       "passenger_count\n",
       "1    7207\n",
       "2    1313\n",
       "5     520\n",
       "3     406\n",
       "6     369\n",
       "4     182\n",
       "0       2\n",
       "Name: count, dtype: int64"
      ]
     },
     "execution_count": 18,
     "metadata": {},
     "output_type": "execute_result"
    }
   ],
   "source": [
    "df['passenger_count'].value_counts()"
   ]
  },
  {
   "cell_type": "markdown",
   "metadata": {},
   "source": [
    "# When would we use this?\n",
    "\n",
    "- Find mean sales per region\n",
    "- Find max sales per salespeople (find the best salesperson!)\n",
    "- Find std in temperature\n",
    "- Find the class average for each class in a school"
   ]
  },
  {
   "cell_type": "markdown",
   "metadata": {},
   "source": [
    "# Exercise: Taxi grouping\n",
    "\n",
    "You can get this file from GitHub, or you can get it as part of the zipfile here: https://files.lerner.co.il/data-science-exercise-files.zip\n",
    "\n",
    "1. Find the mean `total_amount` for each value of `passenger_count`. Should a driver prefer to pick up more people? Does it make a big difference?\n",
    "2. Calculate the percentage tip, using `tip_amount` and `total_amount`. Do you see a difference in the mean tip percentage between vendors of different taxi computers? (Check VendorID)\n",
    "3. Count how many trips there were for each payment type."
   ]
  },
  {
   "cell_type": "code",
   "execution_count": 19,
   "metadata": {},
   "outputs": [
    {
     "data": {
      "text/plain": [
       "0       2\n",
       "1       1\n",
       "2       1\n",
       "3       1\n",
       "4       2\n",
       "       ..\n",
       "9994    2\n",
       "9995    1\n",
       "9996    2\n",
       "9997    2\n",
       "9998    1\n",
       "Name: payment_type, Length: 9999, dtype: int64"
      ]
     },
     "execution_count": 19,
     "metadata": {},
     "output_type": "execute_result"
    }
   ],
   "source": [
    "\n",
    "df['payment_type']"
   ]
  },
  {
   "cell_type": "code",
   "execution_count": 22,
   "metadata": {},
   "outputs": [
    {
     "data": {
      "text/plain": [
       "passenger_count\n",
       "0       2\n",
       "1    7207\n",
       "2    1313\n",
       "3     406\n",
       "4     182\n",
       "5     520\n",
       "6     369\n",
       "Name: passenger_count, dtype: int64"
      ]
     },
     "execution_count": 22,
     "metadata": {},
     "output_type": "execute_result"
    }
   ],
   "source": [
    "df.groupby('passenger_count')['passenger_count'].count()"
   ]
  },
  {
   "cell_type": "code",
   "execution_count": 23,
   "metadata": {},
   "outputs": [
    {
     "data": {
      "text/plain": [
       "passenger_count\n",
       "0    25.570000\n",
       "1    17.368569\n",
       "2    18.406306\n",
       "3    17.994704\n",
       "4    18.881648\n",
       "5    17.211269\n",
       "6    17.401355\n",
       "Name: total_amount, dtype: float64"
      ]
     },
     "execution_count": 23,
     "metadata": {},
     "output_type": "execute_result"
    }
   ],
   "source": [
    "# 1. Find the mean `total_amount` for each value of `passenger_count`. Should a driver prefer to pick up more people? Does it make a big difference?\n",
    "\n",
    "df.groupby('passenger_count')['total_amount'].mean()"
   ]
  },
  {
   "cell_type": "code",
   "execution_count": 25,
   "metadata": {
    "scrolled": true
   },
   "outputs": [
    {
     "data": {
      "text/plain": [
       "passenger_count\n",
       "0    0.183127\n",
       "1    0.092880\n",
       "2    0.088309\n",
       "3    0.087368\n",
       "4    0.077067\n",
       "5    0.094349\n",
       "6    0.086075\n",
       "Name: tip_percentage, dtype: float64"
      ]
     },
     "execution_count": 25,
     "metadata": {},
     "output_type": "execute_result"
    }
   ],
   "source": [
    "# 2. Calculate the percentage tip, using `tip_amount` and `total_amount`. Do you see a difference in the mean \n",
    "# tip percentage between vendors of different taxi computers? (Check VendorID)\n",
    "\n",
    "(\n",
    "    df\n",
    "    .assign(tip_percentage = lambda df_: df_['tip_amount'] / df_['total_amount'])\n",
    "    .groupby('passenger_count')['tip_percentage'].mean()\n",
    ")\n"
   ]
  },
  {
   "cell_type": "code",
   "execution_count": 27,
   "metadata": {},
   "outputs": [
    {
     "data": {
      "text/plain": [
       "passenger_count\n",
       "0    0.183127\n",
       "1    0.159227\n",
       "2    0.160374\n",
       "3    0.161970\n",
       "4    0.168990\n",
       "5    0.162455\n",
       "6    0.162049\n",
       "Name: tip_percentage, dtype: float64"
      ]
     },
     "execution_count": 27,
     "metadata": {},
     "output_type": "execute_result"
    }
   ],
   "source": [
    "# let's remove all non-tippers, and see how much, on average, people tip\n",
    "# if they tip at all\n",
    "\n",
    "(\n",
    "    df\n",
    "    .loc[lambda df_: df_['tip_amount'] > 0]   # keep only the rows where there was a tip\n",
    "    .assign(tip_percentage = lambda df_: df_['tip_amount'] / df_['total_amount'])\n",
    "    .groupby('passenger_count')['tip_percentage'].mean()\n",
    ")\n"
   ]
  },
  {
   "cell_type": "code",
   "execution_count": 29,
   "metadata": {},
   "outputs": [
    {
     "data": {
      "text/plain": [
       "VendorID\n",
       "1    0.158171\n",
       "2    0.161535\n",
       "Name: tip_percentage, dtype: float64"
      ]
     },
     "execution_count": 29,
     "metadata": {},
     "output_type": "execute_result"
    }
   ],
   "source": [
    "(\n",
    "    df\n",
    "    .loc[lambda df_: df_['tip_amount'] > 0]   # keep only the rows where there was a tip\n",
    "    .assign(tip_percentage = lambda df_: df_['tip_amount'] / df_['total_amount'])\n",
    "    .groupby('VendorID')['tip_percentage'].mean()\n",
    ")"
   ]
  },
  {
   "cell_type": "code",
   "execution_count": 30,
   "metadata": {},
   "outputs": [
    {
     "data": {
      "text/plain": [
       "payment_type\n",
       "1    5968\n",
       "2    3991\n",
       "3      34\n",
       "4       6\n",
       "Name: total_amount, dtype: int64"
      ]
     },
     "execution_count": 30,
     "metadata": {},
     "output_type": "execute_result"
    }
   ],
   "source": [
    "# 3. Count how many trips there were for each payment type.\n",
    "\n",
    "df.groupby('payment_type')['total_amount'].count()"
   ]
  },
  {
   "cell_type": "markdown",
   "metadata": {},
   "source": [
    "# How can our groupings get more complex?\n",
    "\n",
    "We'll start by calculating on more than one column. We can do this by putting a list of strings in the \n",
    "square brackets, rather than a single string."
   ]
  },
  {
   "cell_type": "code",
   "execution_count": 31,
   "metadata": {},
   "outputs": [
    {
     "data": {
      "text/html": [
       "<div>\n",
       "<style scoped>\n",
       "    .dataframe tbody tr th:only-of-type {\n",
       "        vertical-align: middle;\n",
       "    }\n",
       "\n",
       "    .dataframe tbody tr th {\n",
       "        vertical-align: top;\n",
       "    }\n",
       "\n",
       "    .dataframe thead th {\n",
       "        text-align: right;\n",
       "    }\n",
       "</style>\n",
       "<table border=\"1\" class=\"dataframe\">\n",
       "  <thead>\n",
       "    <tr style=\"text-align: right;\">\n",
       "      <th></th>\n",
       "      <th>total_amount</th>\n",
       "      <th>trip_distance</th>\n",
       "    </tr>\n",
       "    <tr>\n",
       "      <th>payment_type</th>\n",
       "      <th></th>\n",
       "      <th></th>\n",
       "    </tr>\n",
       "  </thead>\n",
       "  <tbody>\n",
       "    <tr>\n",
       "      <th>1</th>\n",
       "      <td>19.968432</td>\n",
       "      <td>3.438175</td>\n",
       "    </tr>\n",
       "    <tr>\n",
       "      <th>2</th>\n",
       "      <td>13.975392</td>\n",
       "      <td>2.745352</td>\n",
       "    </tr>\n",
       "    <tr>\n",
       "      <th>3</th>\n",
       "      <td>14.708235</td>\n",
       "      <td>2.765588</td>\n",
       "    </tr>\n",
       "    <tr>\n",
       "      <th>4</th>\n",
       "      <td>9.950000</td>\n",
       "      <td>2.031667</td>\n",
       "    </tr>\n",
       "  </tbody>\n",
       "</table>\n",
       "</div>"
      ],
      "text/plain": [
       "              total_amount  trip_distance\n",
       "payment_type                             \n",
       "1                19.968432       3.438175\n",
       "2                13.975392       2.745352\n",
       "3                14.708235       2.765588\n",
       "4                 9.950000       2.031667"
      ]
     },
     "execution_count": 31,
     "metadata": {},
     "output_type": "execute_result"
    }
   ],
   "source": [
    "df.groupby('payment_type')[['total_amount', 'trip_distance']].mean()"
   ]
  },
  {
   "cell_type": "markdown",
   "metadata": {},
   "source": [
    "We can also get more complex by having more than one categorical column.  Here, the combination of columns\n",
    "will serve as our index. We'll get one result for each combination.  The resulting series will contain\n",
    "a multi-index in which the columns appear in the order specified."
   ]
  },
  {
   "cell_type": "code",
   "execution_count": 32,
   "metadata": {},
   "outputs": [
    {
     "data": {
      "text/plain": [
       "payment_type  VendorID\n",
       "1             1           19.902497\n",
       "              2           20.029719\n",
       "2             1           13.500875\n",
       "              2           14.415754\n",
       "3             1           15.958750\n",
       "              2           -5.300000\n",
       "4             1           13.500000\n",
       "              2           -7.800000\n",
       "Name: total_amount, dtype: float64"
      ]
     },
     "execution_count": 32,
     "metadata": {},
     "output_type": "execute_result"
    }
   ],
   "source": [
    "df.groupby(['payment_type', 'VendorID'])['total_amount'].mean()"
   ]
  },
  {
   "cell_type": "markdown",
   "metadata": {},
   "source": [
    "# Exercise: Olympic grouping\n",
    "\n",
    "1. Use the `Olympic` file in the same directory as Jupyter, and turn it into a Pandas data frame.\n",
    "2. Find the mean height of athletes per `Team`.\n",
    "3. Find the mean height and weight of athletes per `Team`.\n",
    "4. Find the mean height of athletes per combination of `Team` and `Year`.\n"
   ]
  },
  {
   "cell_type": "code",
   "execution_count": 33,
   "metadata": {},
   "outputs": [],
   "source": [
    "filename = 'olympic_athlete_events.zip'\n",
    "\n",
    "df = pd.read_csv(filename)"
   ]
  },
  {
   "cell_type": "code",
   "execution_count": 34,
   "metadata": {},
   "outputs": [
    {
     "data": {
      "text/html": [
       "<div>\n",
       "<style scoped>\n",
       "    .dataframe tbody tr th:only-of-type {\n",
       "        vertical-align: middle;\n",
       "    }\n",
       "\n",
       "    .dataframe tbody tr th {\n",
       "        vertical-align: top;\n",
       "    }\n",
       "\n",
       "    .dataframe thead th {\n",
       "        text-align: right;\n",
       "    }\n",
       "</style>\n",
       "<table border=\"1\" class=\"dataframe\">\n",
       "  <thead>\n",
       "    <tr style=\"text-align: right;\">\n",
       "      <th></th>\n",
       "      <th>ID</th>\n",
       "      <th>Name</th>\n",
       "      <th>Sex</th>\n",
       "      <th>Age</th>\n",
       "      <th>Height</th>\n",
       "      <th>Weight</th>\n",
       "      <th>Team</th>\n",
       "      <th>NOC</th>\n",
       "      <th>Games</th>\n",
       "      <th>Year</th>\n",
       "      <th>Season</th>\n",
       "      <th>City</th>\n",
       "      <th>Sport</th>\n",
       "      <th>Event</th>\n",
       "      <th>Medal</th>\n",
       "    </tr>\n",
       "  </thead>\n",
       "  <tbody>\n",
       "    <tr>\n",
       "      <th>0</th>\n",
       "      <td>1</td>\n",
       "      <td>A Dijiang</td>\n",
       "      <td>M</td>\n",
       "      <td>24.0</td>\n",
       "      <td>180.0</td>\n",
       "      <td>80.0</td>\n",
       "      <td>China</td>\n",
       "      <td>CHN</td>\n",
       "      <td>1992 Summer</td>\n",
       "      <td>1992</td>\n",
       "      <td>Summer</td>\n",
       "      <td>Barcelona</td>\n",
       "      <td>Basketball</td>\n",
       "      <td>Basketball Men's Basketball</td>\n",
       "      <td>NaN</td>\n",
       "    </tr>\n",
       "    <tr>\n",
       "      <th>1</th>\n",
       "      <td>2</td>\n",
       "      <td>A Lamusi</td>\n",
       "      <td>M</td>\n",
       "      <td>23.0</td>\n",
       "      <td>170.0</td>\n",
       "      <td>60.0</td>\n",
       "      <td>China</td>\n",
       "      <td>CHN</td>\n",
       "      <td>2012 Summer</td>\n",
       "      <td>2012</td>\n",
       "      <td>Summer</td>\n",
       "      <td>London</td>\n",
       "      <td>Judo</td>\n",
       "      <td>Judo Men's Extra-Lightweight</td>\n",
       "      <td>NaN</td>\n",
       "    </tr>\n",
       "    <tr>\n",
       "      <th>2</th>\n",
       "      <td>3</td>\n",
       "      <td>Gunnar Nielsen Aaby</td>\n",
       "      <td>M</td>\n",
       "      <td>24.0</td>\n",
       "      <td>NaN</td>\n",
       "      <td>NaN</td>\n",
       "      <td>Denmark</td>\n",
       "      <td>DEN</td>\n",
       "      <td>1920 Summer</td>\n",
       "      <td>1920</td>\n",
       "      <td>Summer</td>\n",
       "      <td>Antwerpen</td>\n",
       "      <td>Football</td>\n",
       "      <td>Football Men's Football</td>\n",
       "      <td>NaN</td>\n",
       "    </tr>\n",
       "    <tr>\n",
       "      <th>3</th>\n",
       "      <td>4</td>\n",
       "      <td>Edgar Lindenau Aabye</td>\n",
       "      <td>M</td>\n",
       "      <td>34.0</td>\n",
       "      <td>NaN</td>\n",
       "      <td>NaN</td>\n",
       "      <td>Denmark/Sweden</td>\n",
       "      <td>DEN</td>\n",
       "      <td>1900 Summer</td>\n",
       "      <td>1900</td>\n",
       "      <td>Summer</td>\n",
       "      <td>Paris</td>\n",
       "      <td>Tug-Of-War</td>\n",
       "      <td>Tug-Of-War Men's Tug-Of-War</td>\n",
       "      <td>Gold</td>\n",
       "    </tr>\n",
       "    <tr>\n",
       "      <th>4</th>\n",
       "      <td>5</td>\n",
       "      <td>Christine Jacoba Aaftink</td>\n",
       "      <td>F</td>\n",
       "      <td>21.0</td>\n",
       "      <td>185.0</td>\n",
       "      <td>82.0</td>\n",
       "      <td>Netherlands</td>\n",
       "      <td>NED</td>\n",
       "      <td>1988 Winter</td>\n",
       "      <td>1988</td>\n",
       "      <td>Winter</td>\n",
       "      <td>Calgary</td>\n",
       "      <td>Speed Skating</td>\n",
       "      <td>Speed Skating Women's 500 metres</td>\n",
       "      <td>NaN</td>\n",
       "    </tr>\n",
       "  </tbody>\n",
       "</table>\n",
       "</div>"
      ],
      "text/plain": [
       "   ID                      Name Sex   Age  Height  Weight            Team  \\\n",
       "0   1                 A Dijiang   M  24.0   180.0    80.0           China   \n",
       "1   2                  A Lamusi   M  23.0   170.0    60.0           China   \n",
       "2   3       Gunnar Nielsen Aaby   M  24.0     NaN     NaN         Denmark   \n",
       "3   4      Edgar Lindenau Aabye   M  34.0     NaN     NaN  Denmark/Sweden   \n",
       "4   5  Christine Jacoba Aaftink   F  21.0   185.0    82.0     Netherlands   \n",
       "\n",
       "   NOC        Games  Year  Season       City          Sport  \\\n",
       "0  CHN  1992 Summer  1992  Summer  Barcelona     Basketball   \n",
       "1  CHN  2012 Summer  2012  Summer     London           Judo   \n",
       "2  DEN  1920 Summer  1920  Summer  Antwerpen       Football   \n",
       "3  DEN  1900 Summer  1900  Summer      Paris     Tug-Of-War   \n",
       "4  NED  1988 Winter  1988  Winter    Calgary  Speed Skating   \n",
       "\n",
       "                              Event Medal  \n",
       "0       Basketball Men's Basketball   NaN  \n",
       "1      Judo Men's Extra-Lightweight   NaN  \n",
       "2           Football Men's Football   NaN  \n",
       "3       Tug-Of-War Men's Tug-Of-War  Gold  \n",
       "4  Speed Skating Women's 500 metres   NaN  "
      ]
     },
     "execution_count": 34,
     "metadata": {},
     "output_type": "execute_result"
    }
   ],
   "source": [
    "df.head()"
   ]
  },
  {
   "cell_type": "code",
   "execution_count": 37,
   "metadata": {},
   "outputs": [
    {
     "data": {
      "text/plain": [
       "Team\n",
       "Acipactli              174.666667\n",
       "Afghanistan            170.552632\n",
       "Akatonbo               182.000000\n",
       "Alain IV               176.000000\n",
       "Albania                173.000000\n",
       "Aldebaran              174.500000\n",
       "Algeria                174.702869\n",
       "Ali-Baba IX            175.000000\n",
       "Almaz                  175.500000\n",
       "American Samoa         175.666667\n",
       "Andorra                173.703704\n",
       "Andromeda              179.000000\n",
       "Angola                 178.204082\n",
       "Antigua and Barbuda    175.121739\n",
       "Aphrodite              182.000000\n",
       "Argentina              176.879098\n",
       "Argentina-1            185.125000\n",
       "Argentina-2            186.125000\n",
       "Argeste                177.666667\n",
       "Armenia                171.937799\n",
       "Name: Height, dtype: float64"
      ]
     },
     "execution_count": 37,
     "metadata": {},
     "output_type": "execute_result"
    }
   ],
   "source": [
    "# mean height of athletes per team\n",
    "\n",
    "(\n",
    "    df\n",
    "    .loc[lambda df_: df_['Year'] > 1960]\n",
    "    .groupby('Team')['Height'].mean()\n",
    "    .head(20)\n",
    ")"
   ]
  },
  {
   "cell_type": "code",
   "execution_count": null,
   "metadata": {},
   "outputs": [],
   "source": []
  }
 ],
 "metadata": {
  "kernelspec": {
   "display_name": "Python 3 (ipykernel)",
   "language": "python",
   "name": "python3"
  },
  "language_info": {
   "codemirror_mode": {
    "name": "ipython",
    "version": 3
   },
   "file_extension": ".py",
   "mimetype": "text/x-python",
   "name": "python",
   "nbconvert_exporter": "python",
   "pygments_lexer": "ipython3",
   "version": "3.12.5"
  }
 },
 "nbformat": 4,
 "nbformat_minor": 4
}
